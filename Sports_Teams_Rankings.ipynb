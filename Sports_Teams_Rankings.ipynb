{
  "nbformat": 4,
  "nbformat_minor": 0,
  "metadata": {
    "colab": {
      "provenance": [],
      "include_colab_link": true
    },
    "kernelspec": {
      "name": "python3",
      "display_name": "Python 3"
    }
  },
  "cells": [
    {
      "cell_type": "markdown",
      "metadata": {
        "id": "view-in-github",
        "colab_type": "text"
      },
      "source": [
        "<a href=\"https://colab.research.google.com/github/SophiaScheveck/Math311_LinearAlgebraProjects/blob/main/Sports_Teams_Rankings.ipynb\" target=\"_parent\"><img src=\"https://colab.research.google.com/assets/colab-badge.svg\" alt=\"Open In Colab\"/></a>"
      ]
    },
    {
      "cell_type": "markdown",
      "metadata": {
        "id": "TwGBRAD9R6W4"
      },
      "source": [
        "# Load the preliminary code"
      ]
    },
    {
      "cell_type": "code",
      "metadata": {
        "id": "NaP8xyCfRrUg"
      },
      "source": [
        "import matplotlib.pyplot as plt\n",
        "from sympy import Poly\n",
        "import sympy as sym\n",
        "import numpy as np\n",
        "from numpy import c_\n",
        "\n",
        "# We'll specify that x and t are variables:\n",
        "x, t = sym.symbols('x, t')\n",
        "\n",
        "ll = \"loaded\""
      ],
      "execution_count": null,
      "outputs": []
    },
    {
      "cell_type": "code",
      "metadata": {
        "id": "CANB9fuMRyBP",
        "colab": {
          "base_uri": "https://localhost:8080/"
        },
        "outputId": "e301b73f-e961-4c35-9c54-871fcc64fbce"
      },
      "source": [
        "lll = \" correctly!\"\n",
        "\n",
        "def rref(matrix):\n",
        "    A = np.array(matrix, dtype=np.float64)\n",
        "\n",
        "    r = 0 #row\n",
        "    c = 0 #column\n",
        "\n",
        "    (maxr, maxc) = A.shape\n",
        "\n",
        "    prev_row_pivot = -1   # The previous row with a leading term:\n",
        "    tmp_pivot_row = -1\n",
        "    this_pivot_row = -1\n",
        "\n",
        "    for c in range(maxc):  # go through each column\n",
        "      tmp_pivot_row = -1  # reset the tmp pivot row\n",
        "      this_pivot_row = -1  # reset this pivot row\n",
        "      for r in range(maxr):  # Find the leading term in this column below prev_row_pivot\n",
        "        if ((r > prev_row_pivot) and (A[r][c] != 0.0)):\n",
        "          tmp_pivot_row = r  # find the new pivot row\n",
        "      if (tmp_pivot_row > -1):  # we found a candidate for the leading term:\n",
        "        #swap row this_pivot_row with (prev_row_pivot + 1)\n",
        "        A[[tmp_pivot_row, prev_row_pivot+1]] = A[[prev_row_pivot + 1, tmp_pivot_row]]\n",
        "        #set this_pivot_row to prev_row_pivot+1\n",
        "        this_pivot_row = prev_row_pivot + 1\n",
        "        #Now, normalize the row based on the pivot value:\n",
        "        A[ this_pivot_row ] = A[ this_pivot_row ] / A[ this_pivot_row ][c]\n",
        "        #Then, use this row to force 0's above and below the pivot entry:\n",
        "        #subtract multiples of of the this_pivot_row row from the others\n",
        "        for r_ in range(len(A)):\n",
        "            if r_ != this_pivot_row:\n",
        "                A[r_] = A[r_] - A[this_pivot_row] * A[r_][c] / A[this_pivot_row][c]\n",
        "        prev_row_pivot = this_pivot_row\n",
        "    return A\n",
        "\n",
        "\n",
        "def is_singular(matrix):\n",
        "  singular = True\n",
        "  notsingular = False\n",
        "\n",
        "  (mr, mc) = matrix.shape\n",
        "\n",
        "  return_value = notsingular\n",
        "  if (mc - np.linalg.linalg.matrix_rank(matrix) > 0) :\n",
        "    return_value = singular\n",
        "  return return_value\n",
        "\n",
        "\n",
        "\n",
        "\n",
        "print(\">> The page \", ll, lll)"
      ],
      "execution_count": null,
      "outputs": [
        {
          "output_type": "stream",
          "name": "stdout",
          "text": [
            ">> The page  loaded  correctly!\n"
          ]
        }
      ]
    },
    {
      "cell_type": "markdown",
      "metadata": {
        "id": "dCB31bhvTulU"
      },
      "source": [
        "# Ranking Teams based on games\n",
        "\n",
        "From our packet, we saw there were five games:\n",
        "\n",
        "Home  | Away\n",
        "------|------\n",
        "Winona State 16 | Sioux Falls 15\n",
        "Winona State 34 | Augustana 20\n",
        "Sioux Falls 51  | Augustana 13\n",
        "Duluth 28       |  Augustana 17\n",
        "Winona State 17 | Duluth 37\n",
        "\n",
        "Let's encode this system into a matrix.\n",
        "\n",
        "The unknown rankings are $r_w, r_s, r_a, r_d$.\n",
        "\n",
        "The system looks like $M \\vec{x} = \\vec{b}$, or\n",
        "\n",
        "$$\n",
        "\\left( \\begin{array}{cccc} 1 & -1 & 0 & 0 \\\\ 1 & 0 & -1 & 0 \\\\ 0 & 1 & -1 & 0 \\\\ 0 & 0 & -1 & 1 \\\\ -1 & 0  & 0 & 1 \\\\ \\end{array} \\right) \\, \\left( \\begin{array}{c} r_w \\\\ r_s \\\\ r_a \\\\ r_d \\\\ \\end{array} \\right) = \\left( \\begin{array}{c} 1 \\\\ 14 \\\\ 38 \\\\ 11 \\\\ 20 \\\\ \\end{array} \\right)$$\n",
        "\n",
        "We'll solve this system using least squares\n",
        "$$M^T I M \\vec{x} = M^T I \\vec{b} $$\n",
        "\n",
        "$$ \\vec{x} = \\left( M^T I M  \\right)^{-1} M^T I \\vec{b} $$\n",
        "\n",
        "\n",
        "\n",
        "\n"
      ]
    },
    {
      "cell_type": "code",
      "metadata": {
        "id": "zZOH_e5mViMs",
        "colab": {
          "base_uri": "https://localhost:8080/"
        },
        "outputId": "fe64c6b9-68e9-4113-a94a-d67e9b0a4e1e"
      },
      "source": [
        "# create the matrix:\n",
        "M = np.matrix([[1, -1, 0, 0],\n",
        "               [1, 0, -1, 0],\n",
        "               [0, 1, -1, 0],\n",
        "               [0, 0, -1, 1],\n",
        "               [-1, 0, 0, 1]])\n",
        "\n",
        "\n",
        "# create the vector for the right hand side:\n",
        "pts = np.matrix([[1], [14], [38], [11], [20]])\n",
        "\n",
        "#Make sure the system looks appropriate:\n",
        "print(np.c_[M,pts])"
      ],
      "execution_count": null,
      "outputs": [
        {
          "output_type": "stream",
          "name": "stdout",
          "text": [
            "[[ 1 -1  0  0  1]\n",
            " [ 1  0 -1  0 14]\n",
            " [ 0  1 -1  0 38]\n",
            " [ 0  0 -1  1 11]\n",
            " [-1  0  0  1 20]]\n"
          ]
        }
      ]
    },
    {
      "cell_type": "code",
      "metadata": {
        "id": "s_r-ljCGWB18",
        "colab": {
          "base_uri": "https://localhost:8080/"
        },
        "outputId": "cd606b5b-20be-4954-96b4-12b0339556a4"
      },
      "source": [
        "# Generate the transpose of M:\n",
        "MT = M.transpose()\n",
        "\n",
        "print(\"The Transpose of M is:\")\n",
        "print(MT)\n",
        "\n",
        "# and find MT*M and MT*pts:\n",
        "print(\"\\n\")\n",
        "print(\"MT * M is: \")\n",
        "MTM = MT * M\n",
        "print(MTM)\n",
        "\n",
        "print(\"\\n\")\n",
        "print(\"MT * pts is:\")\n",
        "MTpts = MT * pts\n",
        "print(MTpts)\n"
      ],
      "execution_count": null,
      "outputs": [
        {
          "output_type": "stream",
          "name": "stdout",
          "text": [
            "The Transpose of M is:\n",
            "[[ 1  1  0  0 -1]\n",
            " [-1  0  1  0  0]\n",
            " [ 0 -1 -1 -1  0]\n",
            " [ 0  0  0  1  1]]\n",
            "\n",
            "\n",
            "MT * M is: \n",
            "[[ 3 -1 -1 -1]\n",
            " [-1  2 -1  0]\n",
            " [-1 -1  3 -1]\n",
            " [-1  0 -1  2]]\n",
            "\n",
            "\n",
            "MT * pts is:\n",
            "[[ -5]\n",
            " [ 37]\n",
            " [-63]\n",
            " [ 31]]\n"
          ]
        }
      ]
    },
    {
      "cell_type": "markdown",
      "metadata": {
        "id": "x38H0uPwbhpF"
      },
      "source": [
        "If $M^T M$ has an inverse, then we can use it.  But, if $M^T M$ is singular, then it doesn't have an inverse.  In this situation, we need to replace every entry in one row (say the bottom row) of $M^T M$ and $M^T \\vec{pts}$ with 1's.  (This knocks the system out of *not* having an inverse, so it will now have an inverse.)"
      ]
    },
    {
      "cell_type": "code",
      "metadata": {
        "id": "1ebWW4rZaopa",
        "colab": {
          "base_uri": "https://localhost:8080/"
        },
        "outputId": "4f452372-9659-47b7-f393-ab1097228951"
      },
      "source": [
        "#  Check if MTM is singular\n",
        "is_singular(MT*M)"
      ],
      "execution_count": null,
      "outputs": [
        {
          "output_type": "execute_result",
          "data": {
            "text/plain": [
              "True"
            ]
          },
          "metadata": {},
          "execution_count": 23
        }
      ]
    },
    {
      "cell_type": "code",
      "metadata": {
        "id": "Hs_ZR78AbziT",
        "colab": {
          "base_uri": "https://localhost:8080/"
        },
        "outputId": "fa846343-ba59-45db-ef44-215a7bb02fe3"
      },
      "source": [
        "# If MTM is singular, then adjust one row of MTM and MT pts to be just 1's:\n",
        "\n",
        "#MTM[3] is the entire 4th row of MTM,\n",
        "#so MTM[3] = 1 will put 1's in MTM's 4th row.\n",
        "\n",
        "MTM[3] = 1\n",
        "MTpts[3] = 1\n",
        "\n",
        "print(\"MTM is now: \")\n",
        "print(MTM)\n",
        "\n",
        "print(\"and MTpts is now:\")\n",
        "print(MTpts)\n",
        "\n",
        "print(\"Is our modified MTM singular?\")\n",
        "is_singular(MTM)"
      ],
      "execution_count": null,
      "outputs": [
        {
          "output_type": "stream",
          "name": "stdout",
          "text": [
            "MTM is now: \n",
            "[[ 3 -1 -1 -1]\n",
            " [-1  2 -1  0]\n",
            " [-1 -1  3 -1]\n",
            " [ 1  1  1  1]]\n",
            "and MTpts is now:\n",
            "[[ -5]\n",
            " [ 37]\n",
            " [-63]\n",
            " [  1]]\n",
            "Is our modified MTM singular?\n"
          ]
        },
        {
          "output_type": "execute_result",
          "data": {
            "text/plain": [
              "False"
            ]
          },
          "metadata": {},
          "execution_count": 24
        }
      ]
    },
    {
      "cell_type": "code",
      "metadata": {
        "id": "48WK4ZH7WRxH",
        "colab": {
          "base_uri": "https://localhost:8080/"
        },
        "outputId": "3b2d0a53-cc41-4b42-d3be-b1d91470d90c"
      },
      "source": [
        "#Find our solution using the inverse of MTM:\n",
        "\n",
        "#First, find the inverse of MTM:\n",
        "MTMI = np.linalg.inv(MTM)\n",
        "\n",
        "print(\"The inverse of MTM is:\")\n",
        "print(MTMI)\n",
        "\n",
        "#Now, use the inverse of MTM to solve for the rankings:\n",
        "\n",
        "print(\"\\n\")\n",
        "print(\"The solution are rankings:\")\n",
        "MTMI * MTpts"
      ],
      "execution_count": null,
      "outputs": [
        {
          "output_type": "stream",
          "name": "stdout",
          "text": [
            "The inverse of MTM is:\n",
            "[[ 2.50000000e-01  0.00000000e+00  1.85037171e-17  2.50000000e-01]\n",
            " [ 1.25000000e-01  5.00000000e-01  1.25000000e-01  2.50000000e-01]\n",
            " [ 0.00000000e+00  0.00000000e+00  2.50000000e-01  2.50000000e-01]\n",
            " [-3.75000000e-01 -5.00000000e-01 -3.75000000e-01  2.50000000e-01]]\n",
            "\n",
            "\n",
            "The solution are rankings:\n"
          ]
        },
        {
          "output_type": "execute_result",
          "data": {
            "text/plain": [
              "matrix([[ -1.  ],\n",
              "        [ 10.25],\n",
              "        [-15.5 ],\n",
              "        [  7.25]])"
            ]
          },
          "metadata": {},
          "execution_count": 25
        }
      ]
    },
    {
      "cell_type": "markdown",
      "metadata": {
        "id": "YOTdLT4-R-1h"
      },
      "source": [
        "#  Game Data  - Fall Sports\n",
        "\n",
        "Find the game data for the four teams in the NFC North and NFC South.\n",
        "\n",
        "The teams are:\n",
        "\n",
        "* **NFC North:**  Green Bay Packers, Chicago Bears, Detroit Lions, Minnesota Vikings\n",
        "* **NFC South:**  Atlanta Falcons, Carolina Panthers, New Orleans Saints, Tampa Bay Buccaneers\n",
        "\n",
        "\n",
        "It may be helpful to do a google search to find the data.\n",
        "\n",
        "Be sure to create your matrix on the handout, then enter the data for the system below.\n",
        "\n",
        "# Game Data - Spring Sports\n",
        "\n",
        "Find the game data for the seven teams in the Western Division for Men's Big Ten Basketball.\n",
        "\n",
        "**The teams:**  Wisconsin, Minnesota, Iowa, Illinois, Nebraska, Purdue, and Northewstern.\n",
        "\n",
        "I've provided **most** of the data, but you have to do a Google search to find the scores for the last two teams.\n",
        "\n",
        "Be sure to create your matrix on the handout, then enter the data for the system below.\n"
      ]
    },
    {
      "cell_type": "code",
      "metadata": {
        "id": "RrMkbXIC5v_X",
        "colab": {
          "base_uri": "https://localhost:8080/"
        },
        "outputId": "d97169e7-d2e5-48fb-c83f-8ca2c35d4980"
      },
      "source": [
        "# create the matrix:\n",
        "M = np.matrix([[1, 0, 0, 0, -1, 0, 0],\n",
        "               [-1, 0, 0, 0, 0, 1, 0],\n",
        "               [-1, 0, 0, 0, 1, 0, 0],\n",
        "               [1, 0, 0, -1, 0, 0, 0],\n",
        "               [1, -1, 0, 0, 0, 0, 0],\n",
        "               [1, 0, -1, 0, 0, 0, 0],\n",
        "               [1, 0, 0, 0, 0, 0, -1],\n",
        "               [-1, 0, 0, 0, 0, 1, 0],\n",
        "               [1, -1, 0, 0, 0, 0, 0],\n",
        "               [0, -1, 0, 0, 0, 1, 0],\n",
        "               [0, -1, 0, 0, 0, 0, 1],\n",
        "               [0, 1, 0, -1, 0, 0, 0],\n",
        "               [0, 1, -1, 0, 0, 0, 0],\n",
        "               [0, -1, 0, 0, 0, 1, 0],\n",
        "               [0, 1, -1, 0, 0, 0, 0],\n",
        "               [0, 1, 0, 0, 0, 0, -1],\n",
        "               [0, 1, 0, 0, -1, 0, 0],\n",
        "               [0, 0, 1, -1, 0, 0, 0],\n",
        "               [0, 0, -1, 0, 0, 0, 1],\n",
        "               [0, 0, 1, 0, -1, 0, 0],\n",
        "               [0, 0, -1, 0, 0, 1, 0],\n",
        "               [0, 0, -1, 1, 0, 0, 0],\n",
        "               [0, 0, -1, 0, 1, 0, 0],\n",
        "               [0, 0, 0, -1, 0, 0, 1],\n",
        "               [0, 0, 0, 1, 0, -1, 0],\n",
        "               [0, 0, 0, 1, -1, 0, 0],\n",
        "               [0, 0, 0, 1, 0, 0, -1],\n",
        "               [0, 0, 0, -1, 1, 0, 0],\n",
        "               [0, 0, 0, 0, 1, -1, 0],\n",
        "               [0, 0, 0, 0, -1, 0, 1],\n",
        "               [0, 0, 0, 0, -1, 1, 0],\n",
        "               [0, 0, 0, 0, 0, 1, -1],\n",
        "               [0, 0, 0, 0, 0, 1, -1]])\n",
        "\n",
        "\n",
        "# create the vector for the right hand side:\n",
        "pts = np.matrix([[30], [5], [5], [3], [10], [8], [8], [6], [12], [19], [11], [18], [9], [14], [5], [2], [7], [11], [2], [9], [8], [18], [24], [16], [16], [6], [8], [12], [4], [8], [9], [6], [8]])\n",
        "\n",
        "#Make sure the system looks appropriate:\n",
        "print(np.c_[M,pts])"
      ],
      "execution_count": null,
      "outputs": [
        {
          "output_type": "stream",
          "name": "stdout",
          "text": [
            "[[ 1  0  0  0 -1  0  0 30]\n",
            " [-1  0  0  0  0  1  0  5]\n",
            " [-1  0  0  0  1  0  0  5]\n",
            " [ 1  0  0 -1  0  0  0  3]\n",
            " [ 1 -1  0  0  0  0  0 10]\n",
            " [ 1  0 -1  0  0  0  0  8]\n",
            " [ 1  0  0  0  0  0 -1  8]\n",
            " [-1  0  0  0  0  1  0  6]\n",
            " [ 1 -1  0  0  0  0  0 12]\n",
            " [ 0 -1  0  0  0  1  0 19]\n",
            " [ 0 -1  0  0  0  0  1 11]\n",
            " [ 0  1  0 -1  0  0  0 18]\n",
            " [ 0  1 -1  0  0  0  0  9]\n",
            " [ 0 -1  0  0  0  1  0 14]\n",
            " [ 0  1 -1  0  0  0  0  5]\n",
            " [ 0  1  0  0  0  0 -1  2]\n",
            " [ 0  1  0  0 -1  0  0  7]\n",
            " [ 0  0  1 -1  0  0  0 11]\n",
            " [ 0  0 -1  0  0  0  1  2]\n",
            " [ 0  0  1  0 -1  0  0  9]\n",
            " [ 0  0 -1  0  0  1  0  8]\n",
            " [ 0  0 -1  1  0  0  0 18]\n",
            " [ 0  0 -1  0  1  0  0 24]\n",
            " [ 0  0  0 -1  0  0  1 16]\n",
            " [ 0  0  0  1  0 -1  0 16]\n",
            " [ 0  0  0  1 -1  0  0  6]\n",
            " [ 0  0  0  1  0  0 -1  8]\n",
            " [ 0  0  0 -1  1  0  0 12]\n",
            " [ 0  0  0  0  1 -1  0  4]\n",
            " [ 0  0  0  0 -1  0  1  8]\n",
            " [ 0  0  0  0 -1  1  0  9]\n",
            " [ 0  0  0  0  0  1 -1  6]\n",
            " [ 0  0  0  0  0  1 -1  8]]\n"
          ]
        }
      ]
    },
    {
      "cell_type": "code",
      "metadata": {
        "id": "TLLB3Ebe587M",
        "colab": {
          "base_uri": "https://localhost:8080/"
        },
        "outputId": "bd5e3b3d-f60e-484c-e8f4-efa4b17cc597"
      },
      "source": [
        "# Generate the transpose of M:\n",
        "MT = M.transpose()\n",
        "\n",
        "print(\"The Transpose of M is:\")\n",
        "print(MT)\n",
        "\n",
        "# and find MT*M and MT*pts:\n",
        "print(\"\\n\")\n",
        "print(\"MT * M is: \")\n",
        "MTM = MT * M\n",
        "print(MTM)\n",
        "\n",
        "print(\"\\n\")\n",
        "print(\"MT * pts is:\")\n",
        "MTpts = MT * pts\n",
        "print(MTpts)\n"
      ],
      "execution_count": null,
      "outputs": [
        {
          "output_type": "stream",
          "name": "stdout",
          "text": [
            "The Transpose of M is:\n",
            "[[ 1 -1 -1  1  1  1  1 -1  1  0  0  0  0  0  0  0  0  0  0  0  0  0  0  0\n",
            "   0  0  0  0  0  0  0  0  0]\n",
            " [ 0  0  0  0 -1  0  0  0 -1 -1 -1  1  1 -1  1  1  1  0  0  0  0  0  0  0\n",
            "   0  0  0  0  0  0  0  0  0]\n",
            " [ 0  0  0  0  0 -1  0  0  0  0  0  0 -1  0 -1  0  0  1 -1  1 -1 -1 -1  0\n",
            "   0  0  0  0  0  0  0  0  0]\n",
            " [ 0  0  0 -1  0  0  0  0  0  0  0 -1  0  0  0  0  0 -1  0  0  0  1  0 -1\n",
            "   1  1  1 -1  0  0  0  0  0]\n",
            " [-1  0  1  0  0  0  0  0  0  0  0  0  0  0  0  0 -1  0  0 -1  0  0  1  0\n",
            "   0 -1  0  1  1 -1 -1  0  0]\n",
            " [ 0  1  0  0  0  0  0  1  0  1  0  0  0  1  0  0  0  0  0  0  1  0  0  0\n",
            "  -1  0  0  0 -1  0  1  1  1]\n",
            " [ 0  0  0  0  0  0 -1  0  0  0  1  0  0  0  0 -1  0  0  1  0  0  0  0  1\n",
            "   0  0 -1  0  0  1  0 -1 -1]]\n",
            "\n",
            "\n",
            "MT * M is: \n",
            "[[ 9 -2 -1 -1 -2 -2 -1]\n",
            " [-2 10 -2 -1 -1 -2 -2]\n",
            " [-1 -2  9 -2 -2 -1 -1]\n",
            " [-1 -1 -2  9 -2 -1 -2]\n",
            " [-2 -1 -2 -2 10 -2 -1]\n",
            " [-2 -2 -1 -1 -2 10 -2]\n",
            " [-1 -2 -1 -2 -1 -2  9]]\n",
            "\n",
            "\n",
            "MT * pts is:\n",
            "[[ 55]\n",
            " [-25]\n",
            " [-54]\n",
            " [-12]\n",
            " [-24]\n",
            " [ 55]\n",
            " [  5]]\n"
          ]
        }
      ]
    },
    {
      "cell_type": "code",
      "metadata": {
        "id": "VXqKSDj06BVa",
        "colab": {
          "base_uri": "https://localhost:8080/"
        },
        "outputId": "477b60af-6a2d-4108-d45a-e2e0c2efef19"
      },
      "source": [
        "#  Check if MTM is singular\n",
        "is_singular(MT*M)"
      ],
      "execution_count": null,
      "outputs": [
        {
          "output_type": "execute_result",
          "data": {
            "text/plain": [
              "True"
            ]
          },
          "metadata": {},
          "execution_count": 28
        }
      ]
    },
    {
      "cell_type": "code",
      "metadata": {
        "id": "5E2eXRT76MQh",
        "colab": {
          "base_uri": "https://localhost:8080/"
        },
        "outputId": "e016f79d-6e5c-4c23-d676-d46456c056b5"
      },
      "source": [
        "# Careful - you might not need to do this!\n",
        "# Be sure to check whether MTM is singular on the previous line.\n",
        "\n",
        "# If MTM is singular, then adjust one row of MTM and MT pts to be just 1's:\n",
        "\n",
        "#MTM[3] is the entire 4th row of MTM,\n",
        "#so MTM[3] = 1 will put 1's in MTM's 4th row.\n",
        "\n",
        "MTM[3] = 1\n",
        "MTpts[3] = 1\n",
        "\n",
        "print(\"MTM is now: \")\n",
        "print(MTM)\n",
        "\n",
        "print(\"and MTpts is now:\")\n",
        "print(MTpts)\n",
        "\n",
        "print(\"Is our modified MTM singular?\")\n",
        "is_singular(MTM)"
      ],
      "execution_count": null,
      "outputs": [
        {
          "output_type": "stream",
          "name": "stdout",
          "text": [
            "MTM is now: \n",
            "[[ 9 -2 -1 -1 -2 -2 -1]\n",
            " [-2 10 -2 -1 -1 -2 -2]\n",
            " [-1 -2  9 -2 -2 -1 -1]\n",
            " [ 1  1  1  1  1  1  1]\n",
            " [-2 -1 -2 -2 10 -2 -1]\n",
            " [-2 -2 -1 -1 -2 10 -2]\n",
            " [-1 -2 -1 -2 -1 -2  9]]\n",
            "and MTpts is now:\n",
            "[[ 55]\n",
            " [-25]\n",
            " [-54]\n",
            " [  1]\n",
            " [-24]\n",
            " [ 55]\n",
            " [  5]]\n",
            "Is our modified MTM singular?\n"
          ]
        },
        {
          "output_type": "execute_result",
          "data": {
            "text/plain": [
              "False"
            ]
          },
          "metadata": {},
          "execution_count": 29
        }
      ]
    },
    {
      "cell_type": "code",
      "metadata": {
        "id": "UkDKmNba6YHi",
        "colab": {
          "base_uri": "https://localhost:8080/"
        },
        "outputId": "e60ac58f-48af-43d6-f4c8-d1bc7c2a4139"
      },
      "source": [
        "#Find our solution using the inverse of MTM:\n",
        "\n",
        "#First, find the inverse of MTM:\n",
        "MTMI = np.linalg.inv(MTM)\n",
        "\n",
        "print(\"The inverse of MTM is:\")\n",
        "print(MTMI)\n",
        "\n",
        "#Now, use the inverse of MTM to solve for the rankings:\n",
        "\n",
        "print(\"\\n\")\n",
        "print(\"The solution are rankings:\")\n",
        "MTMI * MTpts"
      ],
      "execution_count": null,
      "outputs": [
        {
          "output_type": "stream",
          "name": "stdout",
          "text": [
            "The inverse of MTM is:\n",
            "[[ 1.01773383e-01  9.32335076e-03  7.70416939e-04  1.42857143e-01\n",
            "   9.24619035e-03  1.00296652e-02  8.48764425e-04]\n",
            " [ 8.48170883e-03  9.23859302e-02  7.63413149e-03  1.42857143e-01\n",
            "   7.12249867e-04  8.47577341e-03  8.41048384e-03]\n",
            " [-9.32987971e-03 -1.62452324e-03  9.16024554e-02  1.42857143e-01\n",
            "  -7.83474853e-04 -9.32335076e-03 -9.25153223e-03]\n",
            " [-1.01773977e-01 -1.00932335e-01 -9.16736803e-02  1.42857143e-01\n",
            "  -9.25212577e-02 -1.01002967e-01 -9.25218512e-02]\n",
            " [-6.52895711e-06 -7.69882752e-03  6.41024880e-05  1.42857143e-01\n",
            "   8.39742593e-02 -7.06314451e-04 -8.40395489e-03]\n",
            " [ 9.25865473e-03  8.54640486e-03  5.93541556e-06  1.42857143e-01\n",
            "   7.77539438e-03  9.25271931e-02  8.48111529e-03]\n",
            " [-8.40336134e-03 -2.00730998e-19 -8.40336134e-03  1.42857143e-01\n",
            "  -8.40336134e-03  0.00000000e+00  9.24369748e-02]]\n",
            "\n",
            "\n",
            "The solution are rankings:\n"
          ]
        },
        {
          "output_type": "execute_result",
          "data": {
            "text/plain": [
              "matrix([[ 5.79967379],\n",
              "        [-1.62141427],\n",
              "        [-5.81644431],\n",
              "        [-1.77828671],\n",
              "        [-1.76474209],\n",
              "        [ 5.38289425],\n",
              "        [ 0.79831933]])"
            ]
          },
          "metadata": {},
          "execution_count": 30
        }
      ]
    }
  ]
}